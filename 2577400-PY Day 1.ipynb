{
 "cells": [
  {
   "cell_type": "markdown",
   "id": "dd43be2b",
   "metadata": {},
   "source": [
    "# 1. Manipulate using a list.\n",
    "i) add new element to the end of list\n",
    "ii) to reverse the element in the list\n",
    "iii) to display the same list of element multiple times\n",
    "iv) to concatenate two list\n",
    "v) To sort the elemnts in the list in ascending order"
   ]
  },
  {
   "cell_type": "markdown",
   "id": "8e7dbf7d",
   "metadata": {},
   "source": [
    "1.(i) add new element to the end of list \n"
   ]
  },
  {
   "cell_type": "code",
   "execution_count": 1,
   "id": "1960b1cf",
   "metadata": {},
   "outputs": [
    {
     "name": "stdout",
     "output_type": "stream",
     "text": [
      "[34, 'hello', 20, 25]\n"
     ]
    }
   ],
   "source": [
    "lst = [34,\"hello\",20]\n",
    "lst.append(25)\n",
    "print(lst)"
   ]
  },
  {
   "cell_type": "markdown",
   "id": "541b5c37",
   "metadata": {},
   "source": [
    " 1.(ii) to reverse the element in the list "
   ]
  },
  {
   "cell_type": "code",
   "execution_count": 4,
   "id": "ccfd0b0e",
   "metadata": {},
   "outputs": [
    {
     "name": "stdout",
     "output_type": "stream",
     "text": [
      "[25, 20, 'hello', 34]\n"
     ]
    }
   ],
   "source": [
    "lst.reverse()\n",
    "print(lst)"
   ]
  },
  {
   "cell_type": "markdown",
   "id": "b7e43d48",
   "metadata": {},
   "source": [
    " 1.(iii) to display the same list of element multiple times"
   ]
  },
  {
   "cell_type": "code",
   "execution_count": 5,
   "id": "bf44717b",
   "metadata": {},
   "outputs": [
    {
     "name": "stdout",
     "output_type": "stream",
     "text": [
      "[34, 'hello', 20, 34, 'hello', 20, 34, 'hello', 20, 34, 'hello', 20, 34, 'hello', 20]\n"
     ]
    }
   ],
   "source": [
    "lst = [34,\"hello\",20]\n",
    "repeated_value = 5*lst\n",
    "print(repeated_value)"
   ]
  },
  {
   "cell_type": "markdown",
   "id": "436ea0a6",
   "metadata": {},
   "source": [
    " 1.(iv) to concatenate two list"
   ]
  },
  {
   "cell_type": "code",
   "execution_count": 6,
   "id": "d72847fe",
   "metadata": {},
   "outputs": [
    {
     "name": "stdout",
     "output_type": "stream",
     "text": [
      "Concatenated list: [34, 'hello', 20, 25, 89]\n"
     ]
    }
   ],
   "source": [
    "list = [34,\"hello\",20]\n",
    "list2 = [25,89]\n",
    " \n",
    "for i in list2 :\n",
    "    list.append(i)\n",
    " \n",
    "\n",
    "print (\"Concatenated list: \" + str(list))"
   ]
  },
  {
   "cell_type": "markdown",
   "id": "d05b9804",
   "metadata": {},
   "source": [
    "1.(v)To sort the elemnts in the list in ascending order"
   ]
  },
  {
   "cell_type": "code",
   "execution_count": 9,
   "id": "46b3bc2b",
   "metadata": {},
   "outputs": [
    {
     "name": "stdout",
     "output_type": "stream",
     "text": [
      "[9, 10, 12, 29, 34]\n"
     ]
    }
   ],
   "source": [
    "list = [34,12,9,29,10]\n",
    "\n",
    "list.sort()\n",
    "print(list)"
   ]
  },
  {
   "cell_type": "raw",
   "id": "b35e299b",
   "metadata": {},
   "source": []
  },
  {
   "cell_type": "markdown",
   "id": "28f632a5",
   "metadata": {},
   "source": [
    "# 2.Write a Program to do in tuple.\n",
    "(i) Manipulate using tuples\n",
    "(ii) To add new element in the end of the tuples\n",
    "(iii) To reverse the element in the list\n",
    "(iv) To display the elements of the same tuples multiple times\n",
    "(v) To concatenate two tuples\n",
    "(vi) To sort the elements in asscending order"
   ]
  },
  {
   "cell_type": "markdown",
   "id": "f1294255",
   "metadata": {},
   "source": [
    "(i) Manipulate using tuples "
   ]
  },
  {
   "cell_type": "code",
   "execution_count": 10,
   "id": "e476b16a",
   "metadata": {},
   "outputs": [
    {
     "name": "stdout",
     "output_type": "stream",
     "text": [
      "('blue', 'pink', 'white', 'apple', 'orange', 'mango')\n"
     ]
    }
   ],
   "source": [
    "color = (\"blue\",\"pink\",\"white\")\n",
    "fruit = (\"apple\",\"orange\",\"mango\")\n",
    "colorfruit = color + fruit\n",
    "print(colorfruit)"
   ]
  },
  {
   "cell_type": "markdown",
   "id": "3b2a52df",
   "metadata": {},
   "source": [
    "(ii) To add new element in the end of the tuples"
   ]
  },
  {
   "cell_type": "code",
   "execution_count": 11,
   "id": "b9416009",
   "metadata": {},
   "outputs": [
    {
     "name": "stdout",
     "output_type": "stream",
     "text": [
      "(2, 5, 8, 8, 16, 67)\n"
     ]
    }
   ],
   "source": [
    "tuple=(2,5,8)\n",
    "tuple_append = tuple + (8, 16, 67)\n",
    "print(tuple_append)"
   ]
  },
  {
   "cell_type": "markdown",
   "id": "6973ba79",
   "metadata": {},
   "source": [
    "(iii) To reverse the element in the list "
   ]
  },
  {
   "cell_type": "code",
   "execution_count": 12,
   "id": "990a2f25",
   "metadata": {},
   "outputs": [
    {
     "name": "stdout",
     "output_type": "stream",
     "text": [
      "<class 'list_reverseiterator'>\n",
      "8\n",
      "7\n",
      "6\n",
      "5\n",
      "4\n",
      "3\n"
     ]
    }
   ],
   "source": [
    "list = [3,4,5,6,7,8]\n",
    "\n",
    "print(type(reversed(list)))   #using in built function (reverse)\n",
    "for i in reversed(list):\n",
    "    print(i)"
   ]
  },
  {
   "cell_type": "markdown",
   "id": "e6270c75",
   "metadata": {},
   "source": [
    "(iv) To display the elements of the same tuples multiple times"
   ]
  },
  {
   "cell_type": "code",
   "execution_count": 13,
   "id": "d3ac49c3",
   "metadata": {},
   "outputs": [
    {
     "name": "stdout",
     "output_type": "stream",
     "text": [
      "The original tuple : ('johny', 'English')\n",
      "The same multiple tuple elements are : (('johny', 'English'), ('johny', 'English'), ('johny', 'English'), ('johny', 'English'))\n"
     ]
    }
   ],
   "source": [
    "t_tuple = (\"johny\", \"English\")\n",
    " \n",
    "print(\"The original tuple : \" + str(t_tuple))\n",
    " \n",
    "N = 4\n",
    "\n",
    "# Repeating tuples N times\n",
    "# using * operator\n",
    "res = ((t_tuple, ) * N)\n",
    " \n",
    "# printing result\n",
    "print(\"The same multiple tuple elements are : \" + str(res))"
   ]
  },
  {
   "cell_type": "markdown",
   "id": "eef22958",
   "metadata": {},
   "source": [
    "(v) To concatenate two tuples "
   ]
  },
  {
   "cell_type": "code",
   "execution_count": 14,
   "id": "342cd8af",
   "metadata": {},
   "outputs": [
    {
     "name": "stdout",
     "output_type": "stream",
     "text": [
      "The original tuple 1 : (6, 21, 9)\n",
      "The original tuple 2 : (5, 61)\n",
      "The tuple after concatenation is : (6, 21, 9, 5, 61)\n"
     ]
    }
   ],
   "source": [
    "tuple = (6,21,9)\n",
    "tuple1 = (5,61)\n",
    "print(\"The original tuple 1 : \" + str(tuple))\n",
    "print(\"The original tuple 2 : \" + str(tuple1))\n",
    " \n",
    "result = tuple + tuple1\n",
    "\n",
    "print(\"The tuple after concatenation is : \" + str(result))"
   ]
  },
  {
   "cell_type": "markdown",
   "id": "9622e0a3",
   "metadata": {},
   "source": [
    "(vi) To sort the elements in asscending order"
   ]
  },
  {
   "cell_type": "code",
   "execution_count": 16,
   "id": "e95ae3f0",
   "metadata": {},
   "outputs": [
    {
     "ename": "TypeError",
     "evalue": "'tuple' object is not callable",
     "output_type": "error",
     "traceback": [
      "\u001b[1;31m---------------------------------------------------------------------------\u001b[0m",
      "\u001b[1;31mTypeError\u001b[0m                                 Traceback (most recent call last)",
      "Cell \u001b[1;32mIn[16], line 2\u001b[0m\n\u001b[0;32m      1\u001b[0m t_tuple \u001b[38;5;241m=\u001b[39m (\u001b[38;5;241m5\u001b[39m, \u001b[38;5;241m2\u001b[39m, \u001b[38;5;241m24\u001b[39m, \u001b[38;5;241m3\u001b[39m, \u001b[38;5;241m1\u001b[39m, \u001b[38;5;241m6\u001b[39m, \u001b[38;5;241m7\u001b[39m)  \n\u001b[1;32m----> 2\u001b[0m sorted_ \u001b[38;5;241m=\u001b[39m \u001b[38;5;28mtuple\u001b[39m(\u001b[38;5;28msorted\u001b[39m(t_tuple))  \n\u001b[0;32m      3\u001b[0m \u001b[38;5;28mprint\u001b[39m(\u001b[38;5;124m'\u001b[39m\u001b[38;5;124mSorted Tuple :\u001b[39m\u001b[38;5;124m'\u001b[39m, sorted_)  \n\u001b[0;32m      4\u001b[0m \u001b[38;5;28mprint\u001b[39m(\u001b[38;5;28mtype\u001b[39m(sorted_))\n",
      "\u001b[1;31mTypeError\u001b[0m: 'tuple' object is not callable"
     ]
    }
   ],
   "source": [
    "t_tuple = (5, 2, 24, 3, 1, 6, 7)  \n",
    "sorted_ = tuple(sorted(t_tuple))  \n",
    "print('Sorted Tuple :', sorted_)  \n",
    "print(type(sorted_))  "
   ]
  },
  {
   "cell_type": "markdown",
   "id": "3ddd8505",
   "metadata": {},
   "source": [
    "# 3. Write a python program to implement the following using list\n",
    "I . Create a list with integer(minimum 10 numbers)\n",
    "\n",
    "II. How to display the last elements in the list\n",
    "\n",
    "III. Command to dsiplay the values from the list [0:4]\n",
    "\n",
    "IV. Command to dsiplay the values from the list [2:]\n",
    "\n",
    "V. Command to dsiplay the values from the list [0:6]"
   ]
  },
  {
   "cell_type": "markdown",
   "id": "8c614730",
   "metadata": {},
   "source": [
    "Create a list with integer(minimum 10 numbers)"
   ]
  },
  {
   "cell_type": "code",
   "execution_count": 17,
   "id": "fcccbf3f",
   "metadata": {},
   "outputs": [
    {
     "name": "stdout",
     "output_type": "stream",
     "text": [
      "[10, 11, 12, 13, 14, 15, 16, 17, 18, 19, 20, 21]\n"
     ]
    }
   ],
   "source": [
    "def createList(l1, l2):\n",
    "    return [item for item in range(l1, l2+1)]\n",
    "l1, l2 = 10, 21\n",
    "print(createList(l1, l2))"
   ]
  },
  {
   "cell_type": "markdown",
   "id": "69721462",
   "metadata": {},
   "source": [
    "How to display the last elements in the list"
   ]
  },
  {
   "cell_type": "code",
   "execution_count": 20,
   "id": "7b360402",
   "metadata": {},
   "outputs": [
    {
     "name": "stdout",
     "output_type": "stream",
     "text": [
      "Input list: [3, 8, 4, 1, 6, 9, 0, 4]\n",
      "Last element of the input list =  4\n"
     ]
    }
   ],
   "source": [
    "list = [3,8,4,1,6,9,0,4]\n",
    "print(\"Input list:\", list)\n",
    "lastElement = list[-1:][0]\n",
    "print(\"Last element of the input list = \", lastElement)"
   ]
  },
  {
   "cell_type": "markdown",
   "id": "730b7ddc",
   "metadata": {},
   "source": [
    " Command to dsiplay the values from the list [0:4]"
   ]
  },
  {
   "cell_type": "code",
   "execution_count": 21,
   "id": "08a2499e",
   "metadata": {},
   "outputs": [
    {
     "name": "stdout",
     "output_type": "stream",
     "text": [
      "Input list: [3, 8, 4, 1, 6, 9, 0, 4]\n",
      "Display Value =  [3, 8, 4, 1]\n"
     ]
    }
   ],
   "source": [
    "list = [3,8,4,1,6,9,0,4]\n",
    "print(\"Input list:\", list)\n",
    "Element = list[0:4]\n",
    "print(\"Display Value = \", Element)"
   ]
  },
  {
   "cell_type": "markdown",
   "id": "aec41a09",
   "metadata": {},
   "source": [
    "Command to dsiplay the values from the list [0:6]"
   ]
  },
  {
   "cell_type": "code",
   "execution_count": 22,
   "id": "589ac4a5",
   "metadata": {},
   "outputs": [
    {
     "name": "stdout",
     "output_type": "stream",
     "text": [
      "Input list: [3, 8, 4, 1, 6, 9, 0, 4]\n",
      "Display Value =  [3, 8, 4, 1, 6, 9]\n"
     ]
    }
   ],
   "source": [
    "\n",
    "print(\"Input list:\", list)\n",
    "Element = list[0:6]\n",
    "print(\"Display Value = \", Element)"
   ]
  },
  {
   "cell_type": "markdown",
   "id": "9884f528",
   "metadata": {},
   "source": [
    "Command to dsiplay the values from the list [2:]"
   ]
  },
  {
   "cell_type": "code",
   "execution_count": 23,
   "id": "91d242b9",
   "metadata": {},
   "outputs": [
    {
     "name": "stdout",
     "output_type": "stream",
     "text": [
      "Input list: [3, 8, 4, 1, 6, 9, 0, 4]\n",
      "Display Value =  [4, 1, 6, 9, 0, 4]\n"
     ]
    }
   ],
   "source": [
    "print(\"Input list:\", list)\n",
    "Element = list[2:]\n",
    "print(\"Display Value = \", Element)"
   ]
  },
  {
   "cell_type": "markdown",
   "id": "3160707b",
   "metadata": {},
   "source": [
    "# 4.Write a python program: tuple1=(10,50,20,40,30)\n",
    "I. To display element 10 and 50 from tuple1\n",
    "II.\tTo display the length of a tuple1\n",
    "III.To find the minimum element from tuple\n",
    "Iv.\tTo add all elements In the tuplel.\n",
    "v.\tTo display the Same tuple multiple times."
   ]
  },
  {
   "cell_type": "markdown",
   "id": "b118d257",
   "metadata": {},
   "source": [
    "I. To display element 10 and 50 from tuple1"
   ]
  },
  {
   "cell_type": "code",
   "execution_count": 25,
   "id": "9c4bacee",
   "metadata": {},
   "outputs": [
    {
     "name": "stdout",
     "output_type": "stream",
     "text": [
      "(10, 50, 20, 40, 30)\n"
     ]
    }
   ],
   "source": [
    "tuple1 = (10,50,20,40,30)  \n",
    "print(tuple1)"
   ]
  },
  {
   "cell_type": "markdown",
   "id": "5406b63b",
   "metadata": {},
   "source": [
    "II. To display the length of a tuple1 "
   ]
  },
  {
   "cell_type": "code",
   "execution_count": 26,
   "id": "71262c06",
   "metadata": {},
   "outputs": [
    {
     "name": "stdout",
     "output_type": "stream",
     "text": [
      "5\n"
     ]
    }
   ],
   "source": [
    " print(len(tuple1))"
   ]
  },
  {
   "cell_type": "markdown",
   "id": "3a7bd698",
   "metadata": {},
   "source": [
    "III.To find the minimum element from tuple "
   ]
  },
  {
   "cell_type": "code",
   "execution_count": 19,
   "id": "030ffe0b",
   "metadata": {},
   "outputs": [
    {
     "name": "stdout",
     "output_type": "stream",
     "text": [
      "Minimum element is: 10\n"
     ]
    }
   ],
   "source": [
    "tuple1 = [10,50,20,40,30]  \n",
    "print(\"Minimum element is:\", min(tuple1))"
   ]
  },
  {
   "cell_type": "markdown",
   "id": "1726c9fa",
   "metadata": {},
   "source": [
    "Iv. To add all elements In the tuplel."
   ]
  },
  {
   "cell_type": "code",
   "execution_count": 20,
   "id": "5b3840ce",
   "metadata": {},
   "outputs": [
    {
     "name": "stdout",
     "output_type": "stream",
     "text": [
      "150\n"
     ]
    }
   ],
   "source": [
    "tuple1= [10,50,20,40,30]\n",
    "Sum = sum(tuple1)  \n",
    "print(Sum)"
   ]
  },
  {
   "cell_type": "markdown",
   "id": "d984ad2b",
   "metadata": {},
   "source": [
    "v. To display the Same tuple multiple times."
   ]
  },
  {
   "cell_type": "code",
   "execution_count": 27,
   "id": "aa573fd7",
   "metadata": {},
   "outputs": [
    {
     "name": "stdout",
     "output_type": "stream",
     "text": [
      "The original tuple : [10, 50, 20, 40, 30]\n",
      "The same tuple elements are : ([10, 50, 20, 40, 30], [10, 50, 20, 40, 30], [10, 50, 20, 40, 30], [10, 50, 20, 40, 30])\n"
     ]
    }
   ],
   "source": [
    "tuple1 = [10,50,20,40,30] \n",
    "print(\"The original tuple : \" + str(tuple1))\n",
    "N = 4\n",
    "res = ((tuple1, ) * N)\n",
    "print(\"The same tuple elements are : \" + str(res))"
   ]
  },
  {
   "cell_type": "markdown",
   "id": "33f91ac3",
   "metadata": {},
   "source": [
    "# 5.Write a Python program\n",
    "\n",
    "I.To calculate the length of a string\n",
    "\n",
    "II.\tTo reverse words In a string\n",
    "\n",
    "III.To display the same string multiple times \n",
    "\n",
    "IV.\tTo concatenate two strings\n",
    "\n",
    "v.\tStr1=H South India\",using string slicing to display \"India\""
   ]
  },
  {
   "cell_type": "markdown",
   "id": "1ba15239",
   "metadata": {},
   "source": [
    "I.To calculate the length of a string"
   ]
  },
  {
   "cell_type": "code",
   "execution_count": 28,
   "id": "327ae935",
   "metadata": {},
   "outputs": [
    {
     "name": "stdout",
     "output_type": "stream",
     "text": [
      "10\n"
     ]
    }
   ],
   "source": [
    "counter = 0\n",
    "for c in \"Relational\":\n",
    "    counter+=1 \n",
    "print (counter) "
   ]
  },
  {
   "cell_type": "markdown",
   "id": "63088832",
   "metadata": {},
   "source": [
    "II. To reverse words In a string"
   ]
  },
  {
   "cell_type": "code",
   "execution_count": 30,
   "id": "1213d6e3",
   "metadata": {},
   "outputs": [
    {
     "name": "stdout",
     "output_type": "stream",
     "text": [
      "Enter any string: abcd\n",
      "abcd\n"
     ]
    }
   ],
   "source": [
    "s = input(\"Enter any string: \")\n",
    "x = s.split()\n",
    "x.reverse()\n",
    "print(' '.join(x))"
   ]
  },
  {
   "cell_type": "markdown",
   "id": "bb6652fd",
   "metadata": {},
   "source": [
    "III. To display the same string multiple times"
   ]
  },
  {
   "cell_type": "code",
   "execution_count": 31,
   "id": "6ecad8ee",
   "metadata": {},
   "outputs": [
    {
     "name": "stdout",
     "output_type": "stream",
     "text": [
      "Relational database!\tRelational database!\tRelational database!\tRelational database!\t\n"
     ]
    }
   ],
   "source": [
    "saying = 'Relational database!\\t'\n",
    "print(saying * 4)"
   ]
  },
  {
   "cell_type": "markdown",
   "id": "919e5455",
   "metadata": {},
   "source": [
    "IV.To concatenate two strings"
   ]
  },
  {
   "cell_type": "code",
   "execution_count": 32,
   "id": "19b15f17",
   "metadata": {},
   "outputs": [
    {
     "name": "stdout",
     "output_type": "stream",
     "text": [
      "String 1: Hello\n",
      "String 2: World\n",
      "Concatenated two strings: HelloWorld\n"
     ]
    }
   ],
   "source": [
    "str1=\"Hello\"\n",
    "str2=\"World\"\n",
    "print (\"String 1:\",str1)\n",
    "print (\"String 2:\",str2)\n",
    "str=str1+str2\n",
    "print(\"Concatenated two strings:\",str)"
   ]
  },
  {
   "cell_type": "markdown",
   "id": "e2718bf5",
   "metadata": {},
   "source": [
    "V. Str1=H South India\",using string slicing to display \"India\""
   ]
  },
  {
   "cell_type": "code",
   "execution_count": 33,
   "id": "84fd5aa0",
   "metadata": {},
   "outputs": [
    {
     "name": "stdout",
     "output_type": "stream",
     "text": [
      " India\n"
     ]
    }
   ],
   "source": [
    "Str1= 'H South India'\n",
    "print(Str1[7:])\n"
   ]
  },
  {
   "cell_type": "markdown",
   "id": "1deb0743",
   "metadata": {},
   "source": [
    "# 6Perform the following:\n",
    "I)Creating the Dictionary\n",
    "\n",
    "II)\tAccessing values and keys In the Dictionary.\n",
    "\n",
    "III)Updating the dictionary using a function\n",
    "\n",
    "IV)\tClear and delete the dictionary values"
   ]
  },
  {
   "cell_type": "markdown",
   "id": "aca9e2e3",
   "metadata": {},
   "source": [
    "Creating the Dictionary"
   ]
  },
  {
   "cell_type": "code",
   "execution_count": 34,
   "id": "80907ddf",
   "metadata": {},
   "outputs": [
    {
     "name": "stdout",
     "output_type": "stream",
     "text": [
      "{11: 'Johny', 22: 'english', 33: 'Bob'}\n"
     ]
    }
   ],
   "source": [
    "Dict = {11: 'Johny', 22: 'english', 33: 'Bob'}\n",
    "print(Dict)"
   ]
  },
  {
   "cell_type": "markdown",
   "id": "0279d318",
   "metadata": {},
   "source": [
    "Accessing values and keys In the Dictionary."
   ]
  },
  {
   "cell_type": "code",
   "execution_count": 35,
   "id": "a5672750",
   "metadata": {},
   "outputs": [
    {
     "name": "stdout",
     "output_type": "stream",
     "text": [
      "Given Dictionary:  {11: 'jan', 22: 'feb', 33: 'march', 44: 'april'}\n",
      "Keys and Values: \n",
      "11 jan\n",
      "22 feb\n",
      "33 march\n",
      "44 april\n"
     ]
    }
   ],
   "source": [
    "dict = {11:'jan',22:'feb',33:'march',44:'april'}\n",
    "print(\"Given Dictionary: \",dict)\n",
    "print(\"Keys and Values: \")\n",
    "for i in dict :\n",
    "   print(i, dict[i])"
   ]
  },
  {
   "cell_type": "markdown",
   "id": "f063c1b6",
   "metadata": {},
   "source": [
    "Updating the dictionary using a function"
   ]
  },
  {
   "cell_type": "code",
   "execution_count": 36,
   "id": "6b53ac02",
   "metadata": {},
   "outputs": [
    {
     "name": "stdout",
     "output_type": "stream",
     "text": [
      "{'brand': 'Mahindra', 'model': 'scorpio', 'year': 2010, 'color': 'Black'}\n"
     ]
    }
   ],
   "source": [
    "Jeep = { \"brand\": \"Mahindra\", \"model\": \"scorpio\", \"year\": 2010 }\n",
    "\n",
    "Jeep.update({\"color\": \"Black\"})\n",
    "\n",
    "print(Jeep)"
   ]
  },
  {
   "cell_type": "markdown",
   "id": "7d79213f",
   "metadata": {},
   "source": [
    "Clear and delete the dictionary values"
   ]
  },
  {
   "cell_type": "code",
   "execution_count": 37,
   "id": "21fa5340",
   "metadata": {},
   "outputs": [
    {
     "name": "stdout",
     "output_type": "stream",
     "text": [
      "{}\n"
     ]
    }
   ],
   "source": [
    "dict = {11: 'Johny', 22: 'english', 33: 'Bob'}\n",
    "\n",
    "dict.clear()    #clear the values\n",
    "print(dict)\n"
   ]
  },
  {
   "cell_type": "code",
   "execution_count": 38,
   "id": "5488485f",
   "metadata": {},
   "outputs": [
    {
     "name": "stdout",
     "output_type": "stream",
     "text": [
      "{'k1': 1, 'k3': 3}\n"
     ]
    }
   ],
   "source": [
    "dict = {'k1': 1, 'k2': 2, 'k3': 3}\n",
    "\n",
    "del dict['k2']\n",
    "print(dict)"
   ]
  },
  {
   "cell_type": "markdown",
   "id": "62bb8cd8",
   "metadata": {},
   "source": [
    "# 7. Python program to insert a number to any position in a list"
   ]
  },
  {
   "cell_type": "code",
   "execution_count": 39,
   "id": "4d3eb467",
   "metadata": {},
   "outputs": [
    {
     "data": {
      "text/plain": [
       "[77, 23, 89, 69, 34]"
      ]
     },
     "execution_count": 39,
     "metadata": {},
     "output_type": "execute_result"
    }
   ],
   "source": [
    "def Positon(Num,Position):                    \n",
    "    list=[77,23,89,101,34]\n",
    "    list[Position-1]=Num                         \n",
    "    return list\n",
    "Positon(69,4)"
   ]
  },
  {
   "cell_type": "markdown",
   "id": "498ac499",
   "metadata": {},
   "source": [
    "# 8 Python program to delete an element from a list by index "
   ]
  },
  {
   "cell_type": "code",
   "execution_count": 40,
   "id": "3f89afb7",
   "metadata": {},
   "outputs": [
    {
     "name": "stdout",
     "output_type": "stream",
     "text": [
      "List after deleting specified list item: ['Johny', 'english', 'Bob']\n"
     ]
    }
   ],
   "source": [
    "list = [\"Johny\", \"english\", \"Bob\", \"Peter\"]\n",
    "givenIndex = 3\n",
    "del list[givenIndex]\n",
    "print(\"List after deleting specified list item:\", list)"
   ]
  },
  {
   "cell_type": "markdown",
   "id": "b13e1354",
   "metadata": {},
   "source": [
    "#  9. Write a program to display a no from 1 to 100"
   ]
  },
  {
   "cell_type": "code",
   "execution_count": 41,
   "id": "f98b7c2b",
   "metadata": {},
   "outputs": [
    {
     "name": "stdout",
     "output_type": "stream",
     "text": [
      "Enter a number : 6\n",
      "1 2 3 4 5 6 "
     ]
    }
   ],
   "source": [
    "n = int(input('Enter a number : '))\n",
    "i = 1\n",
    "while i <= n:\n",
    "    print(i, end=\" \")\n",
    "    i+=1"
   ]
  },
  {
   "cell_type": "markdown",
   "id": "27775fde",
   "metadata": {},
   "source": [
    "# 10. Write a Python program to find the sum of all items in a tuple"
   ]
  },
  {
   "cell_type": "code",
   "execution_count": 43,
   "id": "a1e2eddb",
   "metadata": {},
   "outputs": [
    {
     "name": "stdout",
     "output_type": "stream",
     "text": [
      "Tuple Items =  (10, 30, 50, 70, 78)\n",
      "\n",
      "The Sum of Tuple Items =  238\n"
     ]
    }
   ],
   "source": [
    "tuple = (10,30,50,70,78)\n",
    "print(\"Tuple Items = \", tuple)\n",
    "\n",
    "Sum = sum(tuple)\n",
    "print(\"\\nThe Sum of Tuple Items = \", Sum)"
   ]
  },
  {
   "cell_type": "code",
   "execution_count": null,
   "id": "0e6d5844",
   "metadata": {},
   "outputs": [],
   "source": []
  },
  {
   "cell_type": "markdown",
   "id": "8fdb0cc9",
   "metadata": {},
   "source": [
    "# Control Structure\n"
   ]
  },
  {
   "cell_type": "markdown",
   "id": "d457995e",
   "metadata": {},
   "source": [
    "1. Write a python program to find the first N Prime no:"
   ]
  },
  {
   "cell_type": "code",
   "execution_count": 44,
   "id": "bbb3ad99",
   "metadata": {},
   "outputs": [
    {
     "name": "stdout",
     "output_type": "stream",
     "text": [
      "Enter a number: 8\n",
      "First 8 prime numbers are: \n",
      "2 3 5 7 11 13 17 19 "
     ]
    }
   ],
   "source": [
    "from math import sqrt\n",
    " \n",
    "num = int(input(\"Enter a number: \"))\n",
    "count = 0\n",
    "n = 2\n",
    " \n",
    "print(\"First\", num, \"prime numbers are: \")\n",
    "while count < num:\n",
    "    \n",
    "    prime_flag = True\n",
    "     \n",
    "    for i in range(2, int(sqrt(n)) + 1):\n",
    "        if (n % i) == 0:\n",
    "            prime_flag = False\n",
    "            break\n",
    "     \n",
    "    if prime_flag:\n",
    "        print(n, end =\" \")\n",
    "        count = count + 1\n",
    "    n = n + 1"
   ]
  },
  {
   "cell_type": "markdown",
   "id": "a71b34fd",
   "metadata": {},
   "source": [
    "2.write a python code to calculate the salary of employee from the user to enter basic salary hra ta and da at this component to calculate gross salary also deduct 10% of salary from gros salary to be paid as tax in display gross minus tax as net salary"
   ]
  },
  {
   "cell_type": "code",
   "execution_count": 2,
   "id": "a3e19be6",
   "metadata": {},
   "outputs": [
    {
     "name": "stdout",
     "output_type": "stream",
     "text": [
      "17700\n"
     ]
    }
   ],
   "source": [
    "def computeSalary( basic, grade):\n",
    "     \n",
    "    hra = 0.2 * basic\n",
    "    da = 0.5 * basic\n",
    "    ta = 0.1 * basic\n",
    "     \n",
    "    if grade == 'A':\n",
    "        allowance = 1700.0\n",
    "    elif grade == 'B':\n",
    "        allowance = 1500.0\n",
    "    else:\n",
    "        allowance = 1300.0;\n",
    "     \n",
    "    gross = round(basic + hra + da +\n",
    "                    allowance - ta)\n",
    "                     \n",
    "    return gross\n",
    " \n",
    "if __name__ == '__main__':\n",
    "     \n",
    "    basic = 10000\n",
    "    grade = 'A'\n",
    "\n",
    "    print(computeSalary(basic, grade))"
   ]
  },
  {
   "cell_type": "markdown",
   "id": "1d0bda72",
   "metadata": {},
   "source": [
    "3. Write a python program to search for a stringh in the given list"
   ]
  },
  {
   "cell_type": "code",
   "execution_count": 45,
   "id": "4a60c68e",
   "metadata": {},
   "outputs": [
    {
     "name": "stdout",
     "output_type": "stream",
     "text": [
      "hello is present in the list\n"
     ]
    }
   ],
   "source": [
    "list = [3,5,\"hello\",67]\n",
    "\n",
    "s = 'hello' \n",
    " \n",
    "if s in list:\n",
    "    print(f'{s} is present in the list')\n",
    "else:\n",
    "    print(f'{s} is not present in the list')"
   ]
  },
  {
   "cell_type": "markdown",
   "id": "39267d07",
   "metadata": {},
   "source": [
    "4. Write python function that accept a string and calculate the numberof upper case letter and lower case letter"
   ]
  },
  {
   "cell_type": "code",
   "execution_count": 42,
   "id": "70593de7",
   "metadata": {},
   "outputs": [
    {
     "name": "stdout",
     "output_type": "stream",
     "text": [
      "Original String :  The quick Brown Fox\n",
      "No. of Upper case characters :  3\n",
      "No. of Lower case Characters :  13\n"
     ]
    }
   ],
   "source": [
    "def string_test(s):\n",
    "    d={\"UPPER_CASE\":0, \"LOWER_CASE\":0}\n",
    "    for c in s:\n",
    "        if c.isupper():\n",
    "           d[\"UPPER_CASE\"]+=1\n",
    "        elif c.islower():\n",
    "           d[\"LOWER_CASE\"]+=1\n",
    "        else:\n",
    "           pass\n",
    "    print (\"Original String : \", s)\n",
    "    print (\"No. of Upper case characters : \", d[\"UPPER_CASE\"])\n",
    "    print (\"No. of Lower case Characters : \", d[\"LOWER_CASE\"])\n",
    "\n",
    "string_test('The quick Brown Fox')\n"
   ]
  },
  {
   "cell_type": "markdown",
   "id": "1b179ea9",
   "metadata": {},
   "source": [
    "5. Write a program to display the sum of odd numberand even numbers that fall between 12 and 37"
   ]
  },
  {
   "cell_type": "code",
   "execution_count": 46,
   "id": "7e1b72e5",
   "metadata": {},
   "outputs": [
    {
     "name": "stdout",
     "output_type": "stream",
     "text": [
      " Please Enter the Minimum Value : 7\n",
      " Please Enter the Maximum Value : 9\n",
      "The Sum of Even Numbers from 12 to 9 = 8\n",
      "The Sum of Odd Numbers from 12 to 9 = 16\n"
     ]
    }
   ],
   "source": [
    "min = int(input(\" Please Enter the Minimum Value : \")) \n",
    "max = int(input(\" Please Enter the Maximum Value : \"))\n",
    "\n",
    "even_total = 0\n",
    "odd_total = 0\n",
    " \n",
    "for number in range(min, max + 1):\n",
    "    if(number % 2 == 0):\n",
    "        even_total = even_total + number\n",
    "    else:\n",
    "        odd_total = odd_total + number\n",
    " \n",
    "print(\"The Sum of Even Numbers from 12 to {0} = {1}\".format(number, even_total))\n",
    "print(\"The Sum of Odd Numbers from 12 to {0} = {1}\".format(number, odd_total))\n"
   ]
  },
  {
   "cell_type": "markdown",
   "id": "93fa593f",
   "metadata": {},
   "source": [
    "6. WAP to print thetable of any number"
   ]
  },
  {
   "cell_type": "code",
   "execution_count": 44,
   "id": "e796663c",
   "metadata": {},
   "outputs": [
    {
     "name": "stdout",
     "output_type": "stream",
     "text": [
      "Enter the number of which the user wants to print the multiplication table: 3\n",
      "The Multiplication Table of:  3\n",
      "3 x 1 = 3\n",
      "3 x 2 = 6\n",
      "3 x 3 = 9\n",
      "3 x 4 = 12\n",
      "3 x 5 = 15\n",
      "3 x 6 = 18\n",
      "3 x 7 = 21\n",
      "3 x 8 = 24\n",
      "3 x 9 = 27\n",
      "3 x 10 = 30\n"
     ]
    }
   ],
   "source": [
    "number = int(input (\"Enter the number of which the user wants to print the multiplication table: \"))             \n",
    "print (\"The Multiplication Table of: \", number)    \n",
    "for count in range(1, 11):      \n",
    "   print (number, 'x', count, '=', number * count)    "
   ]
  },
  {
   "cell_type": "markdown",
   "id": "c809ffc7",
   "metadata": {},
   "source": [
    "7. Write a python program to sum the first 10 prime number"
   ]
  },
  {
   "cell_type": "code",
   "execution_count": 45,
   "id": "b699021a",
   "metadata": {},
   "outputs": [
    {
     "name": "stdout",
     "output_type": "stream",
     "text": [
      "\n",
      "Please enter the last number up till which sum of prime number is to be found:10\n",
      "We will find the sum of prime numbers in python upto 10\n",
      "\n",
      "The sum of prime numbers in python from 1 to  10  is : 15\n"
     ]
    }
   ],
   "source": [
    "last_number = int(input(\"\\nPlease enter the last number up till which sum of prime number is to be found:\"))\n",
    "print (\"We will find the sum of prime numbers in python upto\", last_number)\n",
    "sum = 0\n",
    "for number in range(2, last_number + 1):\n",
    "    i = 2\n",
    "    for i in range(2, number):\n",
    "        if (int(number % i) == 0):\n",
    "            i = number\n",
    "            break;\n",
    "    if i is not number:\n",
    "        sum = sum + number\n",
    "print(\"\\nThe sum of prime numbers in python from 1 to \", last_number, \" is :\", sum)"
   ]
  },
  {
   "cell_type": "markdown",
   "id": "9caaed4c",
   "metadata": {},
   "source": [
    "8. Write a python program to implement arthemetic operations using nested if statement"
   ]
  },
  {
   "cell_type": "code",
   "execution_count": 46,
   "id": "7105d59a",
   "metadata": {},
   "outputs": [
    {
     "name": "stdout",
     "output_type": "stream",
     "text": [
      "Enter your choice:n3\n",
      "Enter two numbers: \n",
      "4\n",
      "5\n",
      "Result =  20\n",
      "Wrong input\n"
     ]
    }
   ],
   "source": [
    "choice = int(input(\"Enter your choice:n\"))\n",
    "print(\"Enter two numbers: \")\n",
    "num1 = int(input())\n",
    "num2 = int(input())\n",
    "if choice == 1: \n",
    "  res = num1 + num2\n",
    "  print(\"Result = \", res)\n",
    "\n",
    "if choice == 2: \n",
    "  res = num1 - num2\n",
    "  print(\"Result = \", res)\n",
    "\n",
    "if choice == 3: \n",
    "  res = num1 * num2\n",
    "  print(\"Result = \", res)\n",
    "\n",
    "if choice == 4: \n",
    "  res = num1 / num2\n",
    "  print(\"Result = \", res)\n",
    "\n",
    "if choice == 5:\n",
    "    exit()\n",
    "else:\n",
    "    print(\"Wrong input\")"
   ]
  },
  {
   "cell_type": "markdown",
   "id": "e0017216",
   "metadata": {},
   "source": [
    "9. Write a python program to take temperature in celsius and convert into fahrenheit"
   ]
  },
  {
   "cell_type": "code",
   "execution_count": 47,
   "id": "94917501",
   "metadata": {},
   "outputs": [
    {
     "name": "stdout",
     "output_type": "stream",
     "text": [
      "Enter the Temperature in Celsius :\n",
      "68\n",
      "Temperature in Fahrenheit : 154.4\n"
     ]
    }
   ],
   "source": [
    "celsius = int(input(\"Enter the Temperature in Celsius :\\n\"))\n",
    "fahrenheit = (1.8 * celsius) + 32\n",
    "print(\"Temperature in Fahrenheit :\", fahrenheit)"
   ]
  },
  {
   "cell_type": "markdown",
   "id": "70a04b90",
   "metadata": {},
   "source": [
    "10.Write a python program to find a maximum and minimum number in a list without using an inbuilt function"
   ]
  },
  {
   "cell_type": "code",
   "execution_count": 48,
   "id": "bae45e6b",
   "metadata": {},
   "outputs": [
    {
     "name": "stdout",
     "output_type": "stream",
     "text": [
      "(75, -5)\n"
     ]
    }
   ],
   "source": [
    "def max_min(data):\n",
    "  l = data[0]\n",
    "  s = data[0]\n",
    "  for num in data:\n",
    "    if num> l:\n",
    "      l = num\n",
    "    elif num< s:\n",
    "        s = num\n",
    "  return l, s\n",
    "\n",
    "print(max_min([0, 10, 15, 40, -5, 42, 17, 28, 75]))"
   ]
  },
  {
   "cell_type": "markdown",
   "id": "79479e73",
   "metadata": {},
   "source": [
    "11. Write a program to print out the number of seconds in 30 days, 24 hrs in a day, 60 min per day, 60 sec in a minute"
   ]
  },
  {
   "cell_type": "code",
   "execution_count": 49,
   "id": "c3f73385",
   "metadata": {},
   "outputs": [
    {
     "name": "stdout",
     "output_type": "stream",
     "text": [
      "2592000\n"
     ]
    }
   ],
   "source": [
    "def seconds_per_day(days):\n",
    "    hours = days * 24\n",
    "    minutes = hours * 60\n",
    "    seconds = minutes * 60\n",
    "    return seconds\n",
    "print(seconds_per_day(30)) "
   ]
  },
  {
   "cell_type": "markdown",
   "id": "96da6d2c",
   "metadata": {},
   "source": [
    "12. Write a program in python to print out the no of seconds in a year"
   ]
  },
  {
   "cell_type": "code",
   "execution_count": 50,
   "id": "afd0b4a5",
   "metadata": {},
   "outputs": [
    {
     "name": "stdout",
     "output_type": "stream",
     "text": [
      "Number of seconds in a year :  31536000\n"
     ]
    }
   ],
   "source": [
    "days=365\n",
    "hours=24\n",
    "minutes=60\n",
    "seconds=60\n",
    "print(\"Number of seconds in a year : \",days*hours*minutes*seconds)"
   ]
  },
  {
   "cell_type": "markdown",
   "id": "cc66deda",
   "metadata": {},
   "source": [
    "13.a high speed train can travel at an average speed of 150 mph how long will it take a train travelling at his at the speed to travel from london to glasgow for which is 414 miles away"
   ]
  },
  {
   "cell_type": "code",
   "execution_count": 51,
   "id": "82513443",
   "metadata": {},
   "outputs": [
    {
     "name": "stdout",
     "output_type": "stream",
     "text": [
      "it take a train travelling at his at the speed to travel from london to glasgow =  165.6\n"
     ]
    }
   ],
   "source": [
    "speed = 150\n",
    "distane = 414\n",
    "print(\"it take a train travelling at his at the speed to travel from london to glasgow = \", (414/150*60))"
   ]
  },
  {
   "cell_type": "markdown",
   "id": "8a5e229b",
   "metadata": {},
   "source": [
    "15. if the age of Ram Shyam and Khan are input through the keyboard write a Python program to determine the eldest and youngest of the three"
   ]
  },
  {
   "cell_type": "code",
   "execution_count": 52,
   "id": "ecbf910f",
   "metadata": {},
   "outputs": [
    {
     "name": "stdout",
     "output_type": "stream",
     "text": [
      "Enter the Age of Ram :12\n",
      "Enter the Age of Shyam :15\n",
      "Enter the Age of Khan :54\n",
      "The Youngest Age is Ram\n"
     ]
    }
   ],
   "source": [
    "age1 = int(input(\"Enter the Age of Ram :\"))\n",
    "age2 = int(input(\"Enter the Age of Shyam :\"))\n",
    "age3 = int(input(\"Enter the Age of Khan :\"))\n",
    "if(age1<age2 and age1<age3):\n",
    "    print(\"The Youngest Age is Ram\")\n",
    "elif(age2<age1 and age2<age3):\n",
    "    print(\"The Youngest Age is Shyam\")\n",
    "else:\n",
    "    print(\"The Youngest Age is Khan\")"
   ]
  },
  {
   "cell_type": "markdown",
   "id": "19f6a870",
   "metadata": {},
   "source": [
    "16. write a Python program to rotate a list by right n times with and without using slicing technique"
   ]
  },
  {
   "cell_type": "code",
   "execution_count": 53,
   "id": "efa36317",
   "metadata": {},
   "outputs": [
    {
     "name": "stdout",
     "output_type": "stream",
     "text": [
      "List before rotation =  [5, 20, 34, 67, 89, 94, 98, 110]\n",
      "Updated List after rotation =  [89, 94, 98, 110, 5, 20, 34, 67]\n"
     ]
    }
   ],
   "source": [
    "myList =[5, 20, 34, 67, 89, 94, 98, 110]\n",
    "print(\"List before rotation = \",myList)\n",
    "n = 4\n",
    "# Rotating the List by slicing\n",
    "myList = (myList[len(myList) - n:len(myList)] + myList[0:len(myList) - n])\n",
    "print(\"Updated List after rotation = \",myList)"
   ]
  },
  {
   "cell_type": "code",
   "execution_count": 54,
   "id": "7281bc00",
   "metadata": {},
   "outputs": [
    {
     "name": "stdout",
     "output_type": "stream",
     "text": [
      "[4, 5, 6, 1, 2, 3]\n"
     ]
    }
   ],
   "source": [
    "def rightRotate(lists, num):\n",
    "    output_list = []\n",
    " \n",
    "    \n",
    "    for item in range(len(lists) - num, len(lists)):\n",
    "        output_list.append(lists[item])\n",
    "\n",
    "    for item in range(0, len(lists) - num):\n",
    "        output_list.append(lists[item])\n",
    " \n",
    "    return output_list\n",
    " #without using slicing\n",
    "rotate_num = 3\n",
    "list_1 = [1, 2, 3, 4, 5, 6]\n",
    " \n",
    "print(rightRotate(list_1, rotate_num))"
   ]
  },
  {
   "cell_type": "markdown",
   "id": "4c9252c9",
   "metadata": {},
   "source": [
    "17. Python program to print pattern\n",
    "\n",
    "1 \n",
    "1 1 \n",
    "1 2 1 \n",
    "1 3 3 1 \n",
    "1 4 6 4 1 \n",
    "1 5 10 10 5 1 \n",
    "1 6 15 20 15 6 1"
   ]
  },
  {
   "cell_type": "code",
   "execution_count": 55,
   "id": "f4ec636a",
   "metadata": {},
   "outputs": [
    {
     "name": "stdout",
     "output_type": "stream",
     "text": [
      "1 \n",
      "1 1 \n",
      "1 2 1 \n",
      "1 3 3 1 \n",
      "1 4 6 4 1 \n",
      "1 5 10 10 5 1 \n",
      "1 6 15 20 15 6 1 \n"
     ]
    }
   ],
   "source": [
    "def print_triangle(size):\n",
    "    for i in range(0, size):\n",
    "        for j in range(0, i + 1):\n",
    "            print(decide_number(i, j), end=\" \")\n",
    "        print()\n",
    "\n",
    "\n",
    "def decide_number(n, k):\n",
    "    num = 1\n",
    "    if k > n - k:\n",
    "        k = n - k\n",
    "    for i in range(0, k):\n",
    "        num = num * (n - i)\n",
    "        num = num // (i + 1)\n",
    "    return num\n",
    "\n",
    "# set rows\n",
    "rows = 7\n",
    "print_triangle(rows)"
   ]
  },
  {
   "cell_type": "markdown",
   "id": "fa8408e9",
   "metadata": {},
   "source": [
    "*\n",
    "**\n",
    "***\n",
    "****\n",
    "*****"
   ]
  },
  {
   "cell_type": "code",
   "execution_count": 56,
   "id": "33d61bc3",
   "metadata": {},
   "outputs": [
    {
     "name": "stdout",
     "output_type": "stream",
     "text": [
      "* \r\n",
      "* * \r\n",
      "* * * \r\n",
      "* * * * \r\n",
      "* * * * * \r\n"
     ]
    }
   ],
   "source": [
    "# number of rows\n",
    "rows = 5\n",
    "for i in range(0, rows):\n",
    "    # nested loop for each column\n",
    "    for j in range(0, i + 1):\n",
    "        # print star\n",
    "        print(\"*\", end=' ')\n",
    "    # new line after each row\n",
    "    print(\"\\r\")"
   ]
  },
  {
   "cell_type": "code",
   "execution_count": 57,
   "id": "88bef2a7",
   "metadata": {},
   "outputs": [
    {
     "name": "stdout",
     "output_type": "stream",
     "text": [
      "Print equilateral triangle \n",
      "            *   \n",
      "           *  *   \n",
      "          *  *  *   \n",
      "         *  *  *  *   \n",
      "        *  *  *  *  *   \n",
      "       *  *  *  *  *  *   \n",
      "      *  *  *  *  *  *  *   \n"
     ]
    }
   ],
   "source": [
    "print(\"Print equilateral triangle \")\n",
    "size = 7\n",
    "m = (2 * size) - 2\n",
    "for i in range(0, size):\n",
    "    for j in range(0, m):\n",
    "        print(end=\" \")\n",
    "   \n",
    "    m = m - 1\n",
    "    for j in range(0, i + 1):\n",
    "        print(\"* \", end=' ')\n",
    "    print(\" \")"
   ]
  },
  {
   "cell_type": "markdown",
   "id": "3742f8c4",
   "metadata": {},
   "source": [
    "P\n",
    "\n",
    "Py\n",
    "\n",
    "Pyt\n",
    "\n",
    "Pyth\n",
    "\n",
    "Pytho\n",
    "\n",
    "Python"
   ]
  },
  {
   "cell_type": "code",
   "execution_count": 48,
   "id": "3a48dffc",
   "metadata": {},
   "outputs": [
    {
     "name": "stdout",
     "output_type": "stream",
     "text": [
      "R\n",
      "Re\n",
      "Rel\n",
      "Rela\n",
      "Relat\n",
      "Relati\n",
      "Relatio\n",
      "Relation\n",
      "Relationa\n",
      "Relational\n"
     ]
    }
   ],
   "source": [
    "word = \"Relational\"\n",
    "x = \"\"\n",
    "for i in word:\n",
    "    x += i\n",
    "    print(x)"
   ]
  },
  {
   "cell_type": "code",
   "execution_count": null,
   "id": "7a1eafbb",
   "metadata": {},
   "outputs": [],
   "source": []
  }
 ],
 "metadata": {
  "kernelspec": {
   "display_name": "Python 3 (ipykernel)",
   "language": "python",
   "name": "python3"
  },
  "language_info": {
   "codemirror_mode": {
    "name": "ipython",
    "version": 3
   },
   "file_extension": ".py",
   "mimetype": "text/x-python",
   "name": "python",
   "nbconvert_exporter": "python",
   "pygments_lexer": "ipython3",
   "version": "3.11.4"
  }
 },
 "nbformat": 4,
 "nbformat_minor": 5
}
