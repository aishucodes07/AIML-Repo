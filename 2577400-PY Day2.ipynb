{
 "cells": [
  {
   "cell_type": "markdown",
   "id": "2ae9fe55",
   "metadata": {},
   "source": [
    "# 1 Write a python function to list even and odd numbers in a list"
   ]
  },
  {
   "cell_type": "code",
   "execution_count": 1,
   "id": "3effdf81",
   "metadata": {},
   "outputs": [
    {
     "name": "stdout",
     "output_type": "stream",
     "text": [
      "Even List:  [20, 12, 2]\n",
      "Odd List:  [43, 53, 53, 5, 3]\n"
     ]
    }
   ],
   "source": [
    "nums = [43, 20, 53, 12, 53, 5, 3, 2]\n",
    "\n",
    "even = []\n",
    "odd = []\n",
    "\n",
    "for i in nums:\n",
    "    if(i % 2 == 0):\n",
    "        even.append(i)\n",
    "    else:\n",
    "        odd.append(i)\n",
    "        \n",
    "print(\"Even List: \",even)\n",
    "print(\"Odd List: \",odd)"
   ]
  },
  {
   "cell_type": "markdown",
   "id": "742de537",
   "metadata": {},
   "source": [
    "# 2 Write and run a python program that asks the user to enter 8 integers(one at a time) and then print out how many of those integers were even numbers. "
   ]
  },
  {
   "cell_type": "code",
   "execution_count": 1,
   "id": "58e791c6",
   "metadata": {},
   "outputs": [
    {
     "name": "stdout",
     "output_type": "stream",
     "text": [
      "Ent an integer:6\n",
      "1\n",
      "Ent an integer:25\n",
      "Ent an integer:67\n",
      "Ent an integer:88\n",
      "2\n",
      "Ent an integer:3\n",
      "Ent an integer:24\n",
      "3\n"
     ]
    }
   ],
   "source": [
    "even_count = 0\n",
    "for i in range(6):\n",
    "    num = int(input(\"Ent an integer:\"))\n",
    "    if num % 2 == 0:\n",
    "        even_count += 1\n",
    "        print(even_count)"
   ]
  },
  {
   "cell_type": "markdown",
   "id": "381e841a",
   "metadata": {},
   "source": [
    "# 3.Write a python program where you take any positive integer n, if n is even,divide it by 2 to get n/2. if n is odd,multiply it by 3 and add 1 to obtain 3n+1.Repeat the process until you reach 1."
   ]
  },
  {
   "cell_type": "code",
   "execution_count": 18,
   "id": "702a6d93",
   "metadata": {},
   "outputs": [
    {
     "name": "stdout",
     "output_type": "stream",
     "text": [
      "entr a positive integer: 8\n",
      "8 4 2 1\n"
     ]
    }
   ],
   "source": [
    " def sequence(num):\n",
    "    while num != 1:\n",
    "        print(num, end=' ')\n",
    "        if num % 2 == 0:\n",
    "            num //= 2\n",
    "        else:\n",
    "            num = 3 * num + 1\n",
    "    print(1)\n",
    "\n",
    "try:\n",
    "    num = int(input(\"entr a positive integer: \"))\n",
    "    if num <= 0:\n",
    "        print(\"entr a positive integer.\")\n",
    "    else:\n",
    "        sequence(num)\n",
    "except ValueError:\n",
    "    print(\"error enter a positive integer.\")"
   ]
  },
  {
   "cell_type": "markdown",
   "id": "472045c7",
   "metadata": {},
   "source": [
    "# 4.Write a python program to compute the sum of all the multiples of 3 or 5 below 500"
   ]
  },
  {
   "cell_type": "code",
   "execution_count": 3,
   "id": "3b27190e",
   "metadata": {},
   "outputs": [
    {
     "name": "stdout",
     "output_type": "stream",
     "text": [
      "57918\n"
     ]
    }
   ],
   "source": [
    "n = 0\n",
    "for i in range(1,500):\n",
    "     if not i % 5 or not i % 3:\n",
    "         n = n + i\n",
    "print(n)"
   ]
  },
  {
   "cell_type": "markdown",
   "id": "74386f7c",
   "metadata": {},
   "source": [
    "# 5.To write a python program to find 'n' prime numbers from a list of given numbers"
   ]
  },
  {
   "cell_type": "code",
   "execution_count": 4,
   "id": "5b5ad83a",
   "metadata": {},
   "outputs": [
    {
     "name": "stdout",
     "output_type": "stream",
     "text": [
      "Enter any Number: 9\n",
      "Prime numbers between 1 and 9 are:\n",
      "2\n",
      "3\n",
      "5\n",
      "7\n"
     ]
    }
   ],
   "source": [
    "Number = int(input(\"Enter any Number: \"))\n",
    " \n",
    "print(\"Prime numbers between\", 1, \"and\", Number, \"are:\")\n",
    " \n",
    "for num in range(1, Number + 1):\n",
    "   \n",
    "   if num > 1:\n",
    "       for i in range(2, num):\n",
    "           if (num % i) == 0:\n",
    "               break\n",
    "       else:\n",
    "           print(num)"
   ]
  },
  {
   "cell_type": "markdown",
   "id": "ac92690d",
   "metadata": {},
   "source": [
    "# 6.To write a python program to compute matrix  multiplication"
   ]
  },
  {
   "cell_type": "code",
   "execution_count": 5,
   "id": "c793626b",
   "metadata": {},
   "outputs": [
    {
     "name": "stdout",
     "output_type": "stream",
     "text": [
      "rsult of matrix multiplication:\n",
      "[510, 368]\n",
      "[183, 233]\n"
     ]
    }
   ],
   "source": [
    "def matrix_multiply(matrixA, matrixB):\n",
    "    if len(matrixA[0]) != len(matrixB):\n",
    "        return \"error dimensions\"\n",
    "    result = [[0 for _ in range(len(matrixB[0]))] for _ in range(len(matrixA))]\n",
    "\n",
    "    for i in range(len(matrixA)):\n",
    "        for j in range(len(matrixB[0])):\n",
    "            for k in range(len(matrixB)):\n",
    "                result[i][j] += matrixA[i][k] * matrixB[k][j]\n",
    "    return result\n",
    "matrix_1 = [[19, 9, 6], [3, 2, 9]]\n",
    "matrix_2 = [[12, 8], [24, 10], [11, 21]]\n",
    "\n",
    "result_matrix = matrix_multiply(matrix_1, matrix_2)\n",
    "if isinstance(result_matrix, str):\n",
    "    print(result_matrix)\n",
    "else:\n",
    "    print(\"rsult of matrix multiplication:\")\n",
    "    for row in result_matrix:\n",
    "        print(row)"
   ]
  },
  {
   "cell_type": "markdown",
   "id": "eb0920bd",
   "metadata": {},
   "source": [
    "# 7.write a python function to count the number of vowels in a string"
   ]
  },
  {
   "cell_type": "code",
   "execution_count": 6,
   "id": "db53bf53",
   "metadata": {},
   "outputs": [
    {
     "name": "stdout",
     "output_type": "stream",
     "text": [
      "Enter the string :Aishwarya\n",
      "Total vowels are :4\n"
     ]
    }
   ],
   "source": [
    "String = input('Enter the string :')\n",
    "count = 0\n",
    "\n",
    "String = String.lower()\n",
    "for i in String:\n",
    "    if i == 'a' or i == 'e' or i == 'i' or i == 'o' or i == 'u':\n",
    "       \n",
    "        count+=1\n",
    "\n",
    "if count == 0:\n",
    "    print('No vowels found')\n",
    "else:\n",
    "    print('Total vowels are :' + str(count))"
   ]
  },
  {
   "cell_type": "markdown",
   "id": "93e0404c",
   "metadata": {},
   "source": [
    "# 8.Write a python function to finding factorial for the given number using recursive function"
   ]
  },
  {
   "cell_type": "code",
   "execution_count": 7,
   "id": "55bf920d",
   "metadata": {},
   "outputs": [
    {
     "name": "stdout",
     "output_type": "stream",
     "text": [
      "User Input : 6\n",
      "The factorial of 6 is 720\n"
     ]
    }
   ],
   "source": [
    "def recursive_factorial(n):\n",
    "  if n == 1:\n",
    "     return n\n",
    "  else:\n",
    "     return n*recursive_factorial(n-1)     \n",
    "\n",
    "number = int(input(\"User Input : \"))\n",
    "print(\"The factorial of\", number, \"is\", recursive_factorial(number))\n",
    "\n",
    "\n"
   ]
  },
  {
   "cell_type": "markdown",
   "id": "1ed14149",
   "metadata": {},
   "source": [
    "# 9. Write a python functions for generating the fibonacci series using the function"
   ]
  },
  {
   "cell_type": "code",
   "execution_count": 8,
   "id": "c88c0484",
   "metadata": {},
   "outputs": [
    {
     "name": "stdout",
     "output_type": "stream",
     "text": [
      "Enter the Range Number: 5\n",
      "0\n",
      "1\n",
      "1\n",
      "2\n",
      "3\n"
     ]
    }
   ],
   "source": [
    "def Fibonacci(number):\n",
    "           if(number == 0):\n",
    "                      return 0\n",
    "           elif(number == 1):\n",
    "                      return 1\n",
    "           else:\n",
    "                      return (Fibonacci(number - 2)+ Fibonacci(number - 1))\n",
    "number = int(input(\"Enter the Range Number: \"))\n",
    "for n in range(0, number):\n",
    "           print(Fibonacci(n))"
   ]
  },
  {
   "cell_type": "markdown",
   "id": "67b68899",
   "metadata": {},
   "source": [
    "# 10.Python program to display the given integer in reverse order using the function without an in-built function. "
   ]
  },
  {
   "cell_type": "code",
   "execution_count": 9,
   "id": "e3672746",
   "metadata": {},
   "outputs": [
    {
     "name": "stdout",
     "output_type": "stream",
     "text": [
      "Enter number: 23456\n",
      "Reverse of the number: 65432\n"
     ]
    }
   ],
   "source": [
    "n=int(input(\"Enter number: \"))\n",
    "rev=0\n",
    "while(n>0):\n",
    "    dig=n%10\n",
    "    rev=rev*10+dig\n",
    "    n=n//10\n",
    "print(\"Reverse of the number:\",rev)"
   ]
  },
  {
   "cell_type": "markdown",
   "id": "f2204cad",
   "metadata": {},
   "source": [
    "# 11.Write a python function to display all integers within the range 200-300 whose sum of digits is an even number."
   ]
  },
  {
   "cell_type": "code",
   "execution_count": 10,
   "id": "a5d771c6",
   "metadata": {},
   "outputs": [
    {
     "name": "stdout",
     "output_type": "stream",
     "text": [
      "All Integers Within The Range 200-300 Whose Sum Of Digits Is An Even Number is = ['200', '202', '204', '206', '208', '211', '213', '215', '217', '219', '220', '222', '224', '226', '228', '231', '233', '235', '237', '239', '240', '242', '244', '246', '248', '251', '253', '255', '257', '259', '260', '262', '264', '266', '268', '271', '273', '275', '277', '279', '280', '282', '284', '286', '288', '291', '293', '295', '297', '299']\n"
     ]
    }
   ],
   "source": [
    "list=[]                   \n",
    "for i in range(200,300): \n",
    "    i=str(i)              \n",
    "    sum=0                 \n",
    "    for j in i:           \n",
    "        j=int(j)          \n",
    "        sum=sum+j         \n",
    "    if sum%2==0:          \n",
    "        list.append(i)    \n",
    "print('All Integers Within The Range 200-300 Whose Sum Of Digits Is An Even Number is =',list)"
   ]
  },
  {
   "cell_type": "markdown",
   "id": "76c1a82f",
   "metadata": {},
   "source": [
    "# 12. write a Python function to find the number of digits and sum of digits for a given integer"
   ]
  },
  {
   "cell_type": "code",
   "execution_count": 12,
   "id": "fa07de57",
   "metadata": {},
   "outputs": [
    {
     "name": "stdout",
     "output_type": "stream",
     "text": [
      "18\n"
     ]
    }
   ],
   "source": [
    "def getSum(n):\n",
    "    \n",
    "    sum = 0\n",
    "    while (n != 0):\n",
    "       \n",
    "        sum = sum + (n % 10)\n",
    "        n = n//10\n",
    "       \n",
    "    return sum\n",
    "   \n",
    "n = 567\n",
    "print(getSum(n))"
   ]
  },
  {
   "cell_type": "markdown",
   "id": "1c8ce088",
   "metadata": {},
   "source": [
    "# 13.write function called a sorted that take a list as a parameter and return true if the list is taught in ascending order and false otherwise has duplicate that takes a list and return true if there is any element that appear more than once"
   ]
  },
  {
   "cell_type": "code",
   "execution_count": 13,
   "id": "39811c45",
   "metadata": {},
   "outputs": [
    {
     "name": "stdout",
     "output_type": "stream",
     "text": [
      "8 3\n",
      "3 1\n",
      "1 4\n",
      "True\n"
     ]
    }
   ],
   "source": [
    "def is_sorted(a):\n",
    "    for i in range(len(a)-1):\n",
    "        print(a[i], a[i+1])\n",
    "        if a[i]<=a[i+1]:\n",
    "            return True\n",
    "    return False\n",
    " \n",
    "print(is_sorted([8,3,1,4,0,5,6]))"
   ]
  },
  {
   "cell_type": "markdown",
   "id": "c12b406d",
   "metadata": {},
   "source": [
    "# 14.write function called nested some that take a list of integer and add of the element from all the nested list and come some that takes a list of numbers and return the cumulative sum that is a new list where the i element is the sum of the first i+1 elements from the original list"
   ]
  },
  {
   "cell_type": "code",
   "execution_count": 14,
   "id": "a3b99ac3",
   "metadata": {},
   "outputs": [
    {
     "name": "stdout",
     "output_type": "stream",
     "text": [
      "Sum is: 15\n"
     ]
    }
   ],
   "source": [
    "def sum1(lst):\n",
    "    total = 0\n",
    "    for element in lst:\n",
    "        if (type(element) == type([])):\n",
    "            total = total + sum1(element)\n",
    "        else:\n",
    "            total = total + element\n",
    "    return total\n",
    "print( \"Sum is:\",sum1([[3,5],[3,4]]))"
   ]
  },
  {
   "cell_type": "code",
   "execution_count": null,
   "id": "933db175",
   "metadata": {},
   "outputs": [],
   "source": []
  }
 ],
 "metadata": {
  "kernelspec": {
   "display_name": "Python 3 (ipykernel)",
   "language": "python",
   "name": "python3"
  },
  "language_info": {
   "codemirror_mode": {
    "name": "ipython",
    "version": 3
   },
   "file_extension": ".py",
   "mimetype": "text/x-python",
   "name": "python",
   "nbconvert_exporter": "python",
   "pygments_lexer": "ipython3",
   "version": "3.11.4"
  }
 },
 "nbformat": 4,
 "nbformat_minor": 5
}
