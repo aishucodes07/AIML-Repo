{
 "cells": [
  {
   "cell_type": "markdown",
   "id": "12f8d1ee",
   "metadata": {},
   "source": [
    "# 1. write a python function that copies a file reading and writing up to 50 characters at a time "
   ]
  },
  {
   "cell_type": "code",
   "execution_count": 1,
   "id": "1ecdcaf4",
   "metadata": {},
   "outputs": [
    {
     "name": "stdout",
     "output_type": "stream",
     "text": [
      "File 'file1.txt' copied to 'file2.txt' successfully.\n"
     ]
    }
   ],
   "source": [
    "def copy_file(file1, file2):\n",
    "   try:\n",
    "       with open(file1, 'rb') as source, open(file2, 'wb') as destination:\n",
    "           while True:\n",
    "               chunk = source.read(50)  # Read up to 50 characters at a time\n",
    "               if not chunk:\n",
    "                   break \n",
    "               destination.write(chunk)  \n",
    "       print(f\"File '{file1}' copied to '{file2}' successfully.\")\n",
    "   except FileNotFoundError:\n",
    "       print(\"File not found.\")\n",
    "   except Exception as e:\n",
    "       print(f\"An error occurred: {str(e)}\")\n",
    "\n",
    "copy_file('file1.txt', 'file2.txt')"
   ]
  },
  {
   "cell_type": "markdown",
   "id": "9980b24e",
   "metadata": {},
   "source": [
    "# 2. Print all numbers present in the text file and print the number of blank spaces in that file."
   ]
  },
  {
   "cell_type": "code",
   "execution_count": 2,
   "id": "64c5c139",
   "metadata": {},
   "outputs": [
    {
     "name": "stdout",
     "output_type": "stream",
     "text": [
      "Number in the file: ['1', '2', '3']\n",
      "Number of blank spaces: 34\n"
     ]
    }
   ],
   "source": [
    "filename = \"text_file.txt\"\n",
    "\n",
    "with open(filename, \"r\") as file:\n",
    "    text = file.read()\n",
    "\n",
    "  \n",
    "    import re\n",
    "    number = re.findall(r'\\d+', text)\n",
    "    print(\"Number in the file:\", number)\n",
    "\n",
    "\n",
    "    blank_space_count = text.count(' ')\n",
    "    print(\"Number of blank spaces:\", blank_space_count)"
   ]
  },
  {
   "cell_type": "markdown",
   "id": "545b3e6e",
   "metadata": {},
   "source": [
    "# 3.Write a function called sed that takes as arguments a pattern string, a replacement string, and two filenames; it should read the first file and write the contents into the second file(creating it if necessary). If the pattern string appears anywhere in the file, it should be replaced with the replacement string.If an error occurs while opening, reading, writing, or closing files, your program should catch the exception, print an error message, and exit."
   ]
  },
  {
   "cell_type": "code",
   "execution_count": 3,
   "id": "54fe0366",
   "metadata": {},
   "outputs": [
    {
     "name": "stdout",
     "output_type": "stream",
     "text": [
      "An error occurred: [Errno 2] No such file or directory: 'input.txt'\n"
     ]
    }
   ],
   "source": [
    "def sed(pattern, replacement, input_file, output_file):\n",
    "   try:\n",
    "       with open(input_file, \"r\") as infile, open(output_file, \"w\") as outfile:\n",
    "           for line in infile:\n",
    "               modified_line = line.replace(pattern, replacement)\n",
    "               outfile.write(modified_line)\n",
    "   except Exception as e:\n",
    "       print(\"An error occurred:\", str(e))\n",
    "\n",
    "# Example usage:\n",
    "sed(\"old_pattern\", \"new_pattern\", \"input.txt\", \"output.txt\")"
   ]
  },
  {
   "cell_type": "markdown",
   "id": "fa13c6d7",
   "metadata": {},
   "source": [
    "# 4. Log File Analysis:You have a log file containing records of user activities on a wedsite, Each line in the file represents a log entry with details like timestamp,user ID, and action performed.Your task is to analyze this log file.\n",
    "    a. write python code to read the log file and extract specific information, such as the number of unique users or the most common action.\n",
    "    b. How would you handle large log files efficiently without  loading the entire file into memory?"
   ]
  },
  {
   "cell_type": "code",
   "execution_count": 2,
   "id": "fc9c28ab",
   "metadata": {},
   "outputs": [
    {
     "ename": "SyntaxError",
     "evalue": "(unicode error) 'unicodeescape' codec can't decode bytes in position 2-3: truncated \\UXXXXXXXX escape (3579364682.py, line 29)",
     "output_type": "error",
     "traceback": [
      "\u001b[1;36m  Cell \u001b[1;32mIn[2], line 29\u001b[1;36m\u001b[0m\n\u001b[1;33m    log_file_path = 'C:\\Users\\Aishwarya\\Downloads'\u001b[0m\n\u001b[1;37m                                                  ^\u001b[0m\n\u001b[1;31mSyntaxError\u001b[0m\u001b[1;31m:\u001b[0m (unicode error) 'unicodeescape' codec can't decode bytes in position 2-3: truncated \\UXXXXXXXX escape\n"
     ]
    }
   ],
   "source": [
    "from collections import Counter\n",
    "def analyze_log(log_file_path):   \n",
    "    unique_users = set()\n",
    "    action_counts = Counter()\n",
    "    try:\n",
    "        with open(log_file_path, 'r') as file:\n",
    "            for line in file:\n",
    "               \n",
    "                parts = line.split()\n",
    "                if len(parts) >= 3:\n",
    "                    \n",
    "                    timestamp, user_id, action = parts[0], parts[1], parts[2]\n",
    "                    \n",
    "                    unique_users.add(user_id)\n",
    "                    action_counts[action] += 1\n",
    "                   \n",
    "\n",
    "        \n",
    "        print(f\"Number of unique users:\",len(unique_users))\n",
    "        most_common_action, most_common_count = action_counts.most_common(1)[0]\n",
    "        print(f\"Most common action:\",most_common_action,most_common_count,\" times)\")\n",
    "\n",
    "    except FileNotFoundError:\n",
    "        print(f\"Log file not found:\",log_file_path)\n",
    "    except Exception as e:\n",
    "        print(f\"An error occurred:\",str(e))\n",
    "\n",
    "\n",
    "log_file_path = 'C:\\Users\\Aishwarya\\Downloads'\n",
    "analyze_log(log_file_path)"
   ]
  },
  {
   "cell_type": "markdown",
   "id": "99d8fda7",
   "metadata": {},
   "source": [
    "# 5.Text File Search and Replace: You have a text file with a large amount of text and you want to search for specific words or phrases and replace them with new content.\n",
    "(a)Write Python code to search for and replace text within a text file (b)How would you handle cases where you need to perform multiple replacements in a single pass"
   ]
  },
  {
   "cell_type": "code",
   "execution_count": 5,
   "id": "e041eaa0",
   "metadata": {},
   "outputs": [
    {
     "name": "stdout",
     "output_type": "stream",
     "text": [
      "Text replaced successfully in replaced_file.txt\n"
     ]
    }
   ],
   "source": [
    "def search_replace_in_file(original_file, replaced_file, search_text, replace_text):\n",
    "    try:\n",
    "        with open(original_file, 'r') as file:\n",
    "            file_data = file.read()\n",
    "            file_data = file_data.replace(search_text, replace_text)\n",
    "\n",
    "        with open(replaced_file, 'w') as file:\n",
    "            file.write(file_data)\n",
    "            \n",
    "        print(f\"Text replaced successfully in {replaced_file}\")\n",
    "    \n",
    "    except FileNotFoundError:\n",
    "        print(\"original file not found.\")\n",
    "    except Exception as e:\n",
    "        print(f\"An error occurred: {str(e)}\")\n",
    "\n",
    "# Example usage:\n",
    "original_file = 'original_file.txt'\n",
    "replaced_file = 'replaced_file.txt'\n",
    "search_text = 'old_text'\n",
    "replace_text = 'new_text'\n",
    "search_replace_in_file(original_file, replaced_file, search_text, replace_text)"
   ]
  },
  {
   "cell_type": "markdown",
   "id": "05709fdb",
   "metadata": {},
   "source": [
    "# 6 Write a Python script that concatenates the contents of multiple text files into a single output file Allow the user to specify the input files and the output file."
   ]
  },
  {
   "cell_type": "code",
   "execution_count": 3,
   "id": "272bfff5",
   "metadata": {},
   "outputs": [
    {
     "name": "stdout",
     "output_type": "stream",
     "text": [
      "Enter an input file (or type 'done' to finish): done\n",
      "Enter the replaced file name: replaced\n",
      "Concatenated 0 files into replaced\n"
     ]
    }
   ],
   "source": [
    "def concatenate_files(original_file, replaced_file):\n",
    "   try:\n",
    "       with open(replaced_file, 'w') as output:\n",
    "           for input_file in original_file:\n",
    "               with open(input_file, 'r') as file:\n",
    "                   output.write(file.read())\n",
    "       print(f\"Concatenated {len(original_file)} files into {replaced_file}\")\n",
    "   except Exception as e:\n",
    "       print(f\"An error occurred: {str(e)}\")\n",
    "\n",
    "if __name__ == \"__main__\":\n",
    "   original_file = []\n",
    "   while True:\n",
    "       file_name = input(\"Enter an input file (or type 'done' to finish): \")\n",
    "       if file_name.lower() == 'done':\n",
    "           break\n",
    "       _file.append(file_name)\n",
    "\n",
    "   replaced_file = input(\"Enter the replaced file name: \")\n",
    "\n",
    "   concatenate_files(original_file, replaced_file)"
   ]
  },
  {
   "cell_type": "markdown",
   "id": "f2f0c011",
   "metadata": {},
   "source": [
    "# 7. You are given a text file named input.txt containing a list of words, one word per line. Your task is to create a Python program that reads the contents of input.txt, processes the words, and writes the result to an output file named output.txt. aThe program should perform the following operations:"
   ]
  },
  {
   "cell_type": "markdown",
   "id": "457826de",
   "metadata": {},
   "source": [
    "(i)Read the words from input.txt.\n",
    "\n",
    "(ii.) For each word in the input file, calculate the length of the word and store it in a dictionary where the word is the key, and the length is the value. iii. Write the word-length dictionary to output.txt in the following format:\n",
    "\n",
    "Word1: Length1\n",
    "\n",
    "Word2: Length2\n",
    "\n",
    "ivClose both input and output files properly. vWrite Python code to accomplish this task. Ensure proper error handling\n",
    "\n",
    "for file operations\n",
    "\n",
    "Sample Input('input.txt')\n",
    "\n",
    "apple\n",
    "\n",
    "banana cherry date\n",
    "\n",
    "Sample Output(\"output.txt')\n",
    "\n",
    "apple: 5\n",
    "\n",
    "banana: 6\n",
    "\n",
    "cherry: 6\n",
    "\n",
    "date: 4\n",
    "\n",
    "Note: Your code should work for any input file containing words and produce the corresponding word-length dictionary in the output fil"
   ]
  },
  {
   "cell_type": "code",
   "execution_count": null,
   "id": "6fc66609",
   "metadata": {},
   "outputs": [],
   "source": [
    "try:\n",
    "   \n",
    "   with open('input.txt', 'r') as original_file:\n",
    "      \n",
    "       word_lengths = {}\n",
    "\n",
    "       \n",
    "       for line in original_file:\n",
    "           words = line.strip().split()\n",
    "           for word in words:\n",
    "               word_lengths[word] = len(word)\n",
    "\n",
    "   \n",
    "   with open('output.txt', 'w') as replaced_file:\n",
    "   \n",
    "       for word, length in word_lengths.items():\n",
    "           replaced_file.write(f'{word}: {length}\\n')\n",
    "\n",
    "   print(\"Operation completed successfully.\")\n",
    "\n",
    "except FileNotFoundError:\n",
    "   print(\"Input file 'input.txt' not found.\")\n",
    "except IOError:\n",
    "   print(\"An error occurred while reading/writing the files.\")\n",
    "except Exception as e:\n",
    "   print(f\"An unexpected error occurred: {str(e)}\")"
   ]
  },
  {
   "cell_type": "markdown",
   "id": "ae770e9e",
   "metadata": {},
   "source": [
    "# 8. Assume that you are developing a student grade book system for a school  The system should allow teachers to input student grades for various subjects, store the data in files and provide students with the ability to view their grades. Design a Python program that accomplishes the following tasks:\n",
    "Teachers should be able to input grades for students in different subjects\n",
    "\n",
    "iiStore the student grade data in separate text files for each subject.\n",
    "\n",
    "iii. Students should be able to view their grades for each subject.\n",
    "\n",
    "iv. Implement error handling for file operations, such as file not found or permission issues."
   ]
  },
  {
   "cell_type": "code",
   "execution_count": null,
   "id": "d6b788fd",
   "metadata": {},
   "outputs": [
    {
     "name": "stdout",
     "output_type": "stream",
     "text": [
      "Options:\n",
      "1. Input Grades\n",
      "2. View Grades\n",
      "3. Quit\n",
      "Enter your choice (1/2/3): 2\n"
     ]
    }
   ],
   "source": [
    "def input_grades():\n",
    "   subject = input(\"Enter the subject: \")\n",
    "   student_name = input(\"Enter student's name: \")\n",
    "   grade = input(\"Enter the grade: \")\n",
    "\n",
    "  \n",
    "   if not os.path.exists(subject):\n",
    "       os.mkdir(subject)\n",
    "\n",
    "   file_path = os.path.join(subject, student_name + \".txt\")\n",
    "   with open(file_path, \"w\") as file:\n",
    "       file.write(grade)\n",
    "\n",
    "\n",
    "def view_grades():\n",
    "   subject = input(\"Enter the subject to view grades: \")\n",
    "   student_name = input(\"Enter your name: \")\n",
    "\n",
    "   file_path = os.path.join(subject, student_name + \".txt\")\n",
    "   try:\n",
    "       with open(file_path, \"r\") as file:\n",
    "           grade = file.read()\n",
    "           print(f\"Your grade in {subject}: {grade}\")\n",
    "   except FileNotFoundError:\n",
    "       print(\"File not found.\")\n",
    "   except PermissionError:\n",
    "       print(\"Permission issue while accessing the file.\")\n",
    "\n",
    "\n",
    "while True:\n",
    "   print(\"Options:\")\n",
    "   print(\"1. Input Grades\")\n",
    "   print(\"2. View Grades\")\n",
    "   print(\"3. Quit\")\n",
    "\n",
    "   choice = input(\"Enter your choice (1/2/3): \")\n",
    "\n",
    "   if choice == \"1\":\n",
    "       input_grades()\n",
    "   elif choice == \"2\":\n",
    "       view_grades()\n",
    "   elif choice == \"3\":\n",
    "       break\n",
    "   else:\n",
    "       print(\"Invalid choice. Please select 1, 2, or 3.\")\n"
   ]
  },
  {
   "cell_type": "code",
   "execution_count": null,
   "id": "d29f4548",
   "metadata": {},
   "outputs": [],
   "source": []
  }
 ],
 "metadata": {
  "kernelspec": {
   "display_name": "Python 3 (ipykernel)",
   "language": "python",
   "name": "python3"
  },
  "language_info": {
   "codemirror_mode": {
    "name": "ipython",
    "version": 3
   },
   "file_extension": ".py",
   "mimetype": "text/x-python",
   "name": "python",
   "nbconvert_exporter": "python",
   "pygments_lexer": "ipython3",
   "version": "3.11.4"
  }
 },
 "nbformat": 4,
 "nbformat_minor": 5
}
