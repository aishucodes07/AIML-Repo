{
 "cells": [
  {
   "cell_type": "markdown",
   "id": "1ef3906b",
   "metadata": {},
   "source": [
    "# 1. Write a python program with Exception handling to input marks for five subjects Physics, Chemistry, Biology, Mathematics, and Computer.Calculate the percentage and grade according to the following:\n",
    "    i) percentage>= 90%: Grade A\n",
    "    ii) percentage>= 80%: Grade B\n",
    "    iii) percentage>= 70% Grade C\n",
    "    iv) percentage>= 60%: Grade D\n",
    "    v) percentage>= 40%: Grade E\n",
    "    vi) percentage>= 40%: Grade F\n",
    "    \n",
    " \n",
    "    "
   ]
  },
  {
   "cell_type": "code",
   "execution_count": 2,
   "id": "d76da192",
   "metadata": {},
   "outputs": [
    {
     "name": "stdout",
     "output_type": "stream",
     "text": [
      "Enter Physics marks: 56\n",
      "Enter Chemistry marks: 68\n",
      "Enter Biology marks: 78\n",
      "Enter Mathematics marks: 76\n",
      "Enter Computer marks: 89\n",
      "Percentage: 73.4%\n",
      "Grade: C\n"
     ]
    }
   ],
   "source": [
    "try:\n",
    "    # Input marks for each subject\n",
    "    physics = float(input(\"Enter Physics marks: \"))\n",
    "    chemistry = float(input(\"Enter Chemistry marks: \"))\n",
    "    biology = float(input(\"Enter Biology marks: \"))\n",
    "    mathematics = float(input(\"Enter Mathematics marks: \"))\n",
    "    computer = float(input(\"Enter Computer marks: \"))\n",
    "\n",
    "    # Calculate percentage\n",
    "    total_marks = physics + chemistry + biology + mathematics + computer\n",
    "    percentage = (total_marks / 500) * 100\n",
    "\n",
    "    # Determine grade\n",
    "    if percentage >= 90:\n",
    "        grade = 'A'\n",
    "    elif percentage >= 80:\n",
    "        grade = 'B'\n",
    "    elif percentage >= 70:\n",
    "        grade = 'C'\n",
    "    elif percentage >= 60:\n",
    "        grade = 'D'\n",
    "    elif percentage >= 40:\n",
    "        grade = 'E'\n",
    "    else:\n",
    "        grade = 'F'\n",
    "\n",
    "    # Display result\n",
    "    print(f\"Percentage: {percentage}%\")\n",
    "    print(f\"Grade: {grade}\")\n",
    "\n",
    "except ValueError:\n",
    "    print(\"Invalid input. Please enter numeric marks for each subject.\")\n",
    "except Exception as e:\n",
    "    print(f\"An error occurred: {str(e)}\")"
   ]
  },
  {
   "cell_type": "markdown",
   "id": "a81c91fe",
   "metadata": {},
   "source": [
    "# 2. Write a python program with Exception handling to input electricity unit charges and calculate the total electricity bill according to the given condition:\n",
    "  i) For the first 50 units Rs. 0.50/unit\n",
    "  ii) For the next 100 units Rs. 0.75/unit\n",
    "  iii) For the next 100 units Rs. 1.20/unit\n",
    "  iv) For units above 250 Rs. 1.50/unit\n",
    "  v) An additional surcharge of 20% is added to the bill."
   ]
  },
  {
   "cell_type": "code",
   "execution_count": 1,
   "id": "79450d4d",
   "metadata": {},
   "outputs": [
    {
     "name": "stdout",
     "output_type": "stream",
     "text": [
      "Enter the electricity unit charges: 50\n",
      "Total electricity bill with 20% surcharge: Rs 30.00\n"
     ]
    }
   ],
   "source": [
    "try:\n",
    "    # Input the electricity unit charges\n",
    "    units = float(input(\"Enter the electricity unit charges: \"))\n",
    "\n",
    "    # Initialize variables for bill and surcharge\n",
    "    bill = 0.0\n",
    "    surcharge = 0.20  # 20% surcharge\n",
    "\n",
    "    if units <= 50:\n",
    "        bill = units * 0.50\n",
    "    elif units <= 150:\n",
    "        bill = 50 * 0.50 + (units - 50) * 0.75\n",
    "    elif units <= 250:\n",
    "        bill = 50 * 0.50 + 100 * 0.75 + (units - 150) * 1.20\n",
    "    else:\n",
    "        bill = 50 * 0.50 + 100 * 0.75 + 100 * 1.20 + (units - 250) * 1.50\n",
    "\n",
    "    # Calculate the total bill with surcharge\n",
    "    total_bill = bill + (bill * surcharge)\n",
    "\n",
    "    print(f\"Total electricity bill with 20% surcharge: Rs {total_bill:.2f}\")\n",
    "   \n",
    "except ValueError:\n",
    "    print(\"Invalid input. Please enter a valid number of units.\")\n",
    "except Exception as e:\n",
    "    print(f\"An error occurred: {e}\")"
   ]
  },
  {
   "cell_type": "markdown",
   "id": "ee3a97ec",
   "metadata": {},
   "source": [
    "# 3. Write a python program with Exception handling to input the week number and print the weekday."
   ]
  },
  {
   "cell_type": "code",
   "execution_count": 5,
   "id": "40d6cadd",
   "metadata": {},
   "outputs": [
    {
     "name": "stdout",
     "output_type": "stream",
     "text": [
      "Enter the week number (1-7): 6\n",
      "Weekday 6 is Saturday\n"
     ]
    }
   ],
   "source": [
    "try:\n",
    "    # Input the week number\n",
    "    week_number = int(input(\"Enter the week number (1-7): \"))\n",
    "\n",
    "    # Define a list of weekdays\n",
    "    weekdays = [\"Monday\", \"Tuesday\", \"Wednesday\", \"Thursday\", \"Friday\", \"Saturday\", \"Sunday\"]\n",
    "\n",
    "    # Check if the input is within the valid range\n",
    "    if 1 <= week_number <= 7:\n",
    "        # Print the corresponding weekday\n",
    "        print(f\"Weekday {week_number} is {weekdays[week_number - 1]}\")\n",
    "    else:\n",
    "        print(\"Invalid week number. Please enter a number between 1 and 7.\")\n",
    "\n",
    "except ValueError:\n",
    "    print(\"Invalid input. Please enter a valid number.\")\n",
    "except Exception as e:\n",
    "    print(f\"An error occurred: {e}\")"
   ]
  },
  {
   "cell_type": "markdown",
   "id": "8baeb587",
   "metadata": {},
   "source": [
    "# 4. Write a python program to implement word count using command line arguments.\n",
    " i) create a text document \"apple.txt\" which contains text for wordcount.\n",
    " ii)create a wordcount program which calls the \"apple.txt\" document by opening the file.\n",
    " iii)If the word is present again in the \"apple.txt\",the wordcount is increased by 1 until all the words are counted in the document..\n",
    " iv)close the file\n",
    " v)create a command.py program which imports the wordcount.py program.\n",
    " vi)count the number of words using command line arguments.\n",
    " vii)print each word and its count."
   ]
  },
  {
   "cell_type": "code",
   "execution_count": null,
   "id": "d1d030ed",
   "metadata": {},
   "outputs": [],
   "source": [
    "# wordcount.py\n",
    "\n",
    "def count_words(filename):\n",
    "    try:\n",
    "        with open(filename, 'r') as file:\n",
    "            word_count = {}\n",
    "            for line in file:\n",
    "                words = line.split()\n",
    "                for word in words:\n",
    "                    word = word.lower()  # Convert to lowercase to ensure case-insensitivity\n",
    "                    if word in word_count:\n",
    "                        word_count[word] += 1\n",
    "                    else:\n",
    "                        word_count[word] = 1\n",
    "            return word_count\n",
    "    except FileNotFoundError:\n",
    "        print(f\"File '{filename}' not found.\")\n",
    "        return {}\n",
    "\n",
    "if __name__ == \"__main__\":5\n",
    "    if len(sys.argv) != 2:\n",
    "        print(\"Usage: python wordcount.py <filename>\")\n",
    "    else:\n",
    "        filename = sys.argv[1]\n",
    "        word_count = count_words(filename)\n",
    "        for word, count in word_count.items():\n",
    "            print(f\"{word}: {count}\")"
   ]
  },
  {
   "cell_type": "code",
   "execution_count": null,
   "id": "a55c8d4a",
   "metadata": {},
   "outputs": [],
   "source": [
    "# command.py\n",
    "\n",
    "from wordcount import count_words\n",
    "import sys\n",
    "if len(sys.argv) != 2:\n",
    "    print(\"Usage: python command.py <filename>\")\n",
    "else:\n",
    "    filename = sys.argv[1]\n",
    "    word_count = count_words(filename)\n",
    "for word, count in word_count.items():\n",
    "    print(f\"{word}: {count}\")"
   ]
  },
  {
   "cell_type": "markdown",
   "id": "9e4f627e",
   "metadata": {},
   "source": [
    "# 5.Write a python program for finding the most frequent words in a text read from a file.\n",
    " i) Initially open the text file in read mode.\n",
    " ii) Make all the letters in the document into lowercase letters and split the words in each line.\n",
    " iii) Get the words in an order\n",
    " iv) Sort the words for finding the most frequent words in the file.\n",
    " v) Print the most frequent words in a file."
   ]
  },
  {
   "cell_type": "code",
   "execution_count": 8,
   "id": "789c1b33",
   "metadata": {},
   "outputs": [
    {
     "name": "stdout",
     "output_type": "stream",
     "text": [
      "is: 2\n",
      "and: 2\n",
      "1.python: 1\n",
      "dynamically: 1\n",
      "typed: 1\n",
      "garbage-collected.: 1\n",
      "2.it: 1\n",
      "supports: 1\n",
      "multiple: 1\n",
      "programming: 1\n"
     ]
    }
   ],
   "source": [
    "from collections import Counter\n",
    "\n",
    "\n",
    "file_name = \"text_file.txt\" \n",
    "with open(file_name, \"r\") as file:\n",
    "   \n",
    "   words = file.read().lower().split()\n",
    "\n",
    "\n",
    "word_order = []\n",
    "word_counts = {}\n",
    "for word in words:\n",
    "   if word not in word_counts:\n",
    "       word_order.append(word)\n",
    "   word_counts[word] = word_counts.get(word, 0) + 1\n",
    "\n",
    "sorted_words = sorted(word_order, key=lambda word: word_counts[word], reverse=True)\n",
    "\n",
    "\n",
    "num_most_common = 10 \n",
    "for word in sorted_words[:num_most_common]:\n",
    "   print(f\"{word}: {word_counts[word]}\")"
   ]
  },
  {
   "cell_type": "markdown",
   "id": "7d4bbf3c",
   "metadata": {},
   "source": [
    "# 6. File processing with command line arguments- scenario. You are developing a command-line utility that processes text files. Users can specify input and output file paths as command-line arguments. Yours program should handle exceptions gracefully.\n",
    " i) Design  a Python program that takes two command-line arguments: the input file path and the output file path. Ensure that the program checks if both arguments are provided and that the input file exists.\n",
    " ii) Implement error handling to deal with scenarios such as missing input files, invalid file paths, or permission issues when writing to the output file.\n",
    " iii)if an error occurs during file processing, display the user friendly error message, and exit the program with non zero exit code.\n",
    " iv) write test cases that cover various scenario, including providing valid and invalid file paths as command line arguments."
   ]
  },
  {
   "cell_type": "code",
   "execution_count": null,
   "id": "910197dd",
   "metadata": {},
   "outputs": [],
   "source": [
    "import sys\n",
    "import os\n",
    "\n",
    "def process_files(input_file_path, output_file_path):\n",
    "    try:\n",
    "      \n",
    "        if not input_file_path or not output_file_path:\n",
    "            raise ValueError(\"Both input and output file paths must be provided.\")\n",
    "\n",
    "       \n",
    "        if not os.path.isfile(input_file_path):\n",
    "            raise FileNotFoundError(f\"Input file '{input_file_path}' not found.\")\n",
    "\n",
    "      \n",
    "        with open(input_file_path, 'r') as input_file:\n",
    "            data = input_file.read()\n",
    "\n",
    "  \n",
    "        processed_data = data.upper()  \n",
    "\n",
    "      \n",
    "        with open(output_file_path, 'w') as output_file:\n",
    "            output_file.write(processed_data)\n",
    "\n",
    "    except FileNotFoundError as e:\n",
    "        print(f\"Error: {e}\")\n",
    "        sys.exit(1)\n",
    "    except PermissionError as e:\n",
    "        print(f\"Error: Permission denied while writing to '{output_file_path}'.\")\n",
    "        sys.exit(1)\n",
    "    except Exception as e:\n",
    "        print(f\"An error occurred: {e}\")\n",
    "        sys.exit(1)\n",
    "\n",
    "if __name__ == \"__main__\":\n",
    "    if len(sys.argv) != 3:\n",
    "        print(\"Usage: python program.py <input_file_path> <output_file_path>\")\n",
    "        sys.exit(1)\n",
    "\n",
    "    input_file_path = sys.argv[1]\n",
    "    output_file_path = sys.argv[2]\n",
    "\n",
    "    process_files(input_file_path, output_file_path)"
   ]
  },
  {
   "cell_type": "code",
   "execution_count": null,
   "id": "f10139e0",
   "metadata": {},
   "outputs": [],
   "source": []
  },
  {
   "cell_type": "markdown",
   "id": "80708146",
   "metadata": {},
   "source": []
  }
 ],
 "metadata": {
  "kernelspec": {
   "display_name": "Python 3 (ipykernel)",
   "language": "python",
   "name": "python3"
  },
  "language_info": {
   "codemirror_mode": {
    "name": "ipython",
    "version": 3
   },
   "file_extension": ".py",
   "mimetype": "text/x-python",
   "name": "python",
   "nbconvert_exporter": "python",
   "pygments_lexer": "ipython3",
   "version": "3.11.4"
  }
 },
 "nbformat": 4,
 "nbformat_minor": 5
}
